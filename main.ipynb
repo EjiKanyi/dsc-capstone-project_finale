{
 "cells": [
  {
   "cell_type": "markdown",
   "metadata": {},
   "source": [
    "<div style=\"padding: 35px;color:white;margin:10;font-size:200%;text-align:center;display:fill;border-radius:10px;overflow:hidden;background-image: url(https://images.pexels.com/photos/7078619/pexels-photo-7078619.jpeg?auto=compress&cs=tinysrgb&w=1260&h=750&dpr=1)\"><b><span style='color:black'><strong>EABL STOCK PRICE PREDICTION </strong></span></b> </div> "
   ]
  },
  {
   "cell_type": "code",
   "execution_count": null,
   "metadata": {},
   "outputs": [],
   "source": []
  },
  {
   "cell_type": "markdown",
   "metadata": {},
   "source": [
    "## <div style=\"padding: 20px;color:white;margin:10;font-size:90%;text-align:left;display:fill;border-radius:10px;overflow:hidden;background-image: url(https://w0.peakpx.com/wallpaper/957/661/HD-wallpaper-white-marble-white-stone-texture-marble-stone-background-white-stone.jpg)\"><b><span style='color:black'> Business Understanding</span></b> </div>\n",
    "East African Breweries Limited (EABL) has a rich history rooted in East Africa's economic and social fabric. Established in 1922, EABL has grown to become a leading beverage company, contributing significantly to the region's economy. Over the years, EABL has built a portfolio of iconic brands, becoming synonymous with quality and innovation in the brewing industry.EABL holds a pivotal role in the East African beverage market, offering a diverse range of alcoholic and non-alcoholic products. Its flagship brands, including Tusker Lager and Guinness, have become household names, reflecting the company's commitment to quality craftsmanship.\n",
    "\n",
    "Despite its historical success, East African Breweries Limited (EABL) has been facing significant challenges in the form of evolving regulatory landscapes. The recent government's directive to collect taxes within 24 hours after goods leave the store, influenced by the new Finance Act of 2023, has introduced a new layer of complexity. This has prompted investors and stakeholders to reevaluate their strategies in light of the changing regulatory landscape. To navigate this uncertainty, our goal is to provide investors with a comprehensive analysis and forecasting model for EABL's stock prices, incorporating various economic indicators and sentiments.\n",
    "\n",
    "### <b> <span style='color:#16C2D5'>|</span> Problem statement</b>\n",
    "The dynamic regulatory environment and recent government directives have created uncertainty in the market, affecting EABL's stock performance. Investors are seeking ways to cushion themselves from potential market crashes and make informed decisions in the face of evolving economic conditions. To address this, we aim to develop a multifaceted analysis, including time series forecasting, sentiment analysis, volatility insights, abnormal trade volume investigation, dividends analysis, trend analysis, and lag analysis of market indicators.\n",
    "\n",
    "### <b> <span style='color:#16C2D5'>|</span> Objectives</b>\n",
    "1. **Time Series Forecasting:**\n",
    "Objective: Develop an accurate time series forecasting model for EABL's stock prices. Incorporate Twitter(Stocks) sentiments, inflation rates, exchange rates, yearly unemployment rates, and EABL dividends payout.\n",
    "\n",
    "2. **Sentiment Analysis:**\n",
    "Objective 1: Perform a sentiment analysis of EABL products as well as market sentiments (Twitter).\n",
    "Objective 2: Conduct sentiment analysis on news articles and Instagram.\n",
    "Objective 3: Identify key sentiment drivers.\n",
    "\n",
    "3. **Viability Assessment:**\n",
    "Objective 1: Uncover EABL's stock volatility patterns for risk assessment.\n",
    "Objective 2: Develop a risk model to identify and quantify potential risks for managing investment strategies.\n",
    "Objective 3: Investigate abnormal trade volume spikes and analyze their causes and implications.\n",
    "\n",
    "4. **Dividends Analysis:**\n",
    "Objective: Analyze the rates of EABL dividends payout.\n",
    "\n",
    "5. **Trend Analysis:**\n",
    "Objective: Analyze trends, seasonality, and autocorrelation patterns in EABL stock data.\n",
    "\n",
    "6. **Lag Analysis:**\n",
    "Objective: Analyze the lag effects of market indicators (inflation rates, GDP, USD exchange rates, unemployment rates) on EABL stocks.\n",
    "\n",
    "\n",
    "### <b> <span style='color:#16C2D5'>|</span> Possible challenges</b>\n",
    "1. Regulatory Uncertainty: The recent changes in tax collection directives pose a challenge for EABL's financial stability. Understanding and predicting the impact of these changes on stock prices is challenging but crucial.\n",
    "\n",
    "2. Data Integration: Incorporating diverse data sources like Twitter sentiments, inflation rates, exchange rates, unemployment rates, and dividends payout requires efficient data integration and cleaning to ensure the accuracy and reliability of the analysis.\n",
    "\n",
    "3. Sentiment Analysis: Analyzing sentiments from various sources (Twitter, news articles, Instagram) poses the challenge of dealing with unstructured data and ensuring that sentiments are accurately captured and interpreted.\n",
    "\n",
    "4. Market Volatility: Predicting stock prices and identifying potential risks related to EABL's stock volatility demands a robust model capable of handling the inherent unpredictability in financial markets.\n",
    "\n",
    "5. Complexity of Market Indicators: Understanding the lag effects of market indicators such as inflation rates, GDP, USD exchange rates, and unemployment rates on EABL stocks requires a sophisticated analytical approach.\n",
    "\n",
    "6. Scanty data on market indicators(Quartely market indicators)\n",
    "\n",
    "7. Limited market sentiment data(Twitter)\n",
    "\n",
    "### <b> <span style='color:#16C2D5'>|</span> Conclusion</b>\n",
    "In conclusion, EABL's current challenges necessitate a comprehensive approach to provide investors with the insights needed to make informed decisions. By combining traditional financial indicators with emerging data sources and advanced analytics, we aim to offer a holistic view of the market dynamics surrounding EABL. The analysis will not only address current uncertainties but also equip investors with tools to anticipate and navigate future trends in the stock market."
   ]
  },
  {
   "cell_type": "code",
   "execution_count": 1,
   "metadata": {},
   "outputs": [
    {
     "ename": "ModuleNotFoundError",
     "evalue": "No module named 'statsmodels'",
     "output_type": "error",
     "traceback": [
      "\u001b[1;31m---------------------------------------------------------------------------\u001b[0m",
      "\u001b[1;31mModuleNotFoundError\u001b[0m                       Traceback (most recent call last)",
      "Cell \u001b[1;32mIn[1], line 11\u001b[0m\n\u001b[0;32m      8\u001b[0m get_ipython()\u001b[38;5;241m.\u001b[39mrun_line_magic(\u001b[38;5;124m'\u001b[39m\u001b[38;5;124mmatplotlib\u001b[39m\u001b[38;5;124m'\u001b[39m, \u001b[38;5;124m'\u001b[39m\u001b[38;5;124minline\u001b[39m\u001b[38;5;124m'\u001b[39m)\n\u001b[0;32m     10\u001b[0m \u001b[38;5;66;03m# statistical libraries\u001b[39;00m\n\u001b[1;32m---> 11\u001b[0m \u001b[38;5;28;01mfrom\u001b[39;00m \u001b[38;5;21;01mstatsmodels\u001b[39;00m\u001b[38;5;21;01m.\u001b[39;00m\u001b[38;5;21;01mtsa\u001b[39;00m\u001b[38;5;21;01m.\u001b[39;00m\u001b[38;5;21;01mstattools\u001b[39;00m \u001b[38;5;28;01mimport\u001b[39;00m adfuller\n\u001b[0;32m     12\u001b[0m \u001b[38;5;28;01mfrom\u001b[39;00m \u001b[38;5;21;01mstatsmodels\u001b[39;00m\u001b[38;5;21;01m.\u001b[39;00m\u001b[38;5;21;01mtsa\u001b[39;00m\u001b[38;5;21;01m.\u001b[39;00m\u001b[38;5;21;01mseasonal\u001b[39;00m \u001b[38;5;28;01mimport\u001b[39;00m seasonal_decompose\n\u001b[0;32m     13\u001b[0m \u001b[38;5;28;01mfrom\u001b[39;00m \u001b[38;5;21;01mstatsmodels\u001b[39;00m\u001b[38;5;21;01m.\u001b[39;00m\u001b[38;5;21;01mtsa\u001b[39;00m\u001b[38;5;21;01m.\u001b[39;00m\u001b[38;5;21;01marima_model\u001b[39;00m \u001b[38;5;28;01mimport\u001b[39;00m ARIMA\n",
      "\u001b[1;31mModuleNotFoundError\u001b[0m: No module named 'statsmodels'"
     ]
    }
   ],
   "source": [
    "# Data manipulation libraries\n",
    "import pandas as pd \n",
    "import numpy as np\n",
    " \n",
    "# visualization libraries\n",
    "import matplotlib.pyplot as plt \n",
    "import seaborn as sns\n",
    "%matplotlib inline \n",
    "\n",
    "# statistical libraries\n",
    "from statsmodels.tsa.stattools import adfuller\n",
    "from statsmodels.tsa.seasonal import seasonal_decompose\n",
    "from statsmodels.tsa.arima_model import ARIMA\n",
    "\n",
    "# machine learning libraries\n",
    "from sklearn.metrics import mean_squared_error\n",
    "from sklearn.linear_model import LinearRegression\n",
    "from sklearn.preprocessing import MinMaxScaler, StandardScaler \n",
    "\n",
    "#Finance visualization libraries. \n",
    "from ta.volatility import AverageTrueRange\n",
    "import mplfinance as mpf\n",
    "\n",
    "#Sentiment analysis libraries. \n",
    "from vaderSentiment.vaderSentiment import SentimentIntensityAnalyzer\n",
    "from wordcloud import WordCloud, STOPWORDS\n",
    "\n",
    "\n"
   ]
  },
  {
   "cell_type": "code",
   "execution_count": null,
   "metadata": {},
   "outputs": [],
   "source": [
    "# pip install statsmodels"
   ]
  },
  {
   "cell_type": "markdown",
   "metadata": {},
   "source": [
    "## <div style=\"padding: 20px;color:white;margin:10;font-size:90%;text-align:left;display:fill;border-radius:10px;overflow:hidden;background-image: url(https://w0.peakpx.com/wallpaper/957/661/HD-wallpaper-white-marble-white-stone-texture-marble-stone-background-white-stone.jpg)\"><b><span style='color:black'> Data Understanding</span></b> </div>"
   ]
  },
  {
   "cell_type": "code",
   "execution_count": null,
   "metadata": {},
   "outputs": [],
   "source": [
    "# Load the final_merge.csv file into a Pandas DataFrame.\n",
    "df = pd.read_csv(\"MergedData/final_merge.csv\")\n",
    "df.head()"
   ]
  },
  {
   "cell_type": "code",
   "execution_count": null,
   "metadata": {},
   "outputs": [],
   "source": [
    "# Check the summary informartion of the dataframe.\n",
    "df.info()"
   ]
  },
  {
   "cell_type": "code",
   "execution_count": null,
   "metadata": {},
   "outputs": [],
   "source": [
    "# Check for missing values.\n",
    "df.isna().sum()"
   ]
  },
  {
   "cell_type": "code",
   "execution_count": null,
   "metadata": {},
   "outputs": [],
   "source": [
    "df.columns"
   ]
  },
  {
   "cell_type": "markdown",
   "metadata": {},
   "source": [
    "## <div style=\"padding: 20px;color:white;margin:10;font-size:90%;text-align:left;display:fill;border-radius:10px;overflow:hidden;background-image: url(https://w0.peakpx.com/wallpaper/957/661/HD-wallpaper-white-marble-white-stone-texture-marble-stone-background-white-stone.jpg)\"><b><span style='color:black'> Data Preprocessing and EDA</span></b> </div>"
   ]
  },
  {
   "cell_type": "code",
   "execution_count": null,
   "metadata": {},
   "outputs": [],
   "source": [
    "#Convert to datetime formart. \n",
    "df['Date'] = pd.to_datetime(df['Date'])"
   ]
  },
  {
   "cell_type": "code",
   "execution_count": null,
   "metadata": {},
   "outputs": [],
   "source": [
    "df['PE_Ratio'] = df['Close'] / df['Earnings Per Share']\n",
    "df['Dividend_Yield'] = (df['Dividends per share'] / df['Close']) * 100\n"
   ]
  },
  {
   "cell_type": "code",
   "execution_count": null,
   "metadata": {},
   "outputs": [],
   "source": [
    "#Moving Averages\n",
    "df['50_Day_MA'] = df['Close'].rolling(window=50).mean()\n",
    "df['200_Day_MA'] = df['Close'].rolling(window=200).mean()"
   ]
  },
  {
   "cell_type": "code",
   "execution_count": null,
   "metadata": {},
   "outputs": [],
   "source": [
    "#Percentage Changes\n",
    "df['Daily_Percentage_Change'] = df['Close'].pct_change() * 100"
   ]
  },
  {
   "cell_type": "code",
   "execution_count": null,
   "metadata": {},
   "outputs": [],
   "source": [
    "# Feature Engineering\n",
    "df['PE_Ratio'] = df['Close'] / df['Earnings Per Share']\n",
    "df['Dividend_Yield'] = (df['Dividends per share'] / df['Close']) * 100\n"
   ]
  },
  {
   "cell_type": "markdown",
   "metadata": {},
   "source": [
    "### <b> <span style='color:#16C2D5'>|</span> Volatility Analysis</b>"
   ]
  },
  {
   "cell_type": "code",
   "execution_count": null,
   "metadata": {},
   "outputs": [],
   "source": [
    "volatility = df['Close'].std()\n",
    "volatility"
   ]
  },
  {
   "cell_type": "markdown",
   "metadata": {},
   "source": [
    "The calculated volatility of 59.23 for the closing prices of EABL stock signifies the average deviation of daily closing prices from their mean. This value indicates a substantial degree of price variability, with an average deviation of approximately 59.23 units (considered in the currency of the stock). Such a level of volatility suggests that EABL stock experiences notable and frequent price fluctuations. It's important to interpret this result in the context of risk assessment, as higher volatility may imply increased uncertainty and potential challenges in predicting future price movements. Investors and analysts should consider this volatility measure along with other risk metrics to form a comprehensive understanding of the stock's historical price dynamics and associated risks."
   ]
  },
  {
   "cell_type": "code",
   "execution_count": null,
   "metadata": {},
   "outputs": [],
   "source": [
    "# Historical volatility\n",
    "historical_volatility = df['Close'].pct_change().std()\n",
    "historical_volatility"
   ]
  },
  {
   "cell_type": "markdown",
   "metadata": {},
   "source": [
    "The historical volatility of approximately 2.2% for the EABL stock means that, on average, the daily percentage change in its closing price over the specified historical period is 2.2%. This measure provides insights into the stock's past price fluctuations, serving as an indicator of its market risk. A higher historical volatility suggests a more variable and potentially riskier market."
   ]
  },
  {
   "cell_type": "code",
   "execution_count": null,
   "metadata": {},
   "outputs": [],
   "source": [
    "atr_window = 30 # The window size as needed\n",
    "atr = AverageTrueRange(high=df['High'], low=df['Low'], close=df['Close'], window=atr_window).average_true_range()\n",
    "\n",
    "# Print the calculated ATR values needed\n",
    "print(atr)"
   ]
  },
  {
   "cell_type": "markdown",
   "metadata": {},
   "source": [
    "The EABL stock data's computed Average True Range (ATR) values show the degree of market volatility on each matching date. ATR values that are positive indicate rising volatility as you go back in time, whereas values that are negative indicate little to no volatility. This is helpful in figuring out periods of increased market activity and in comprehending previous stock price fluctuations. The ATR values shed light on how market volatility has changed during the historical time that the dataset covers."
   ]
  },
  {
   "cell_type": "code",
   "execution_count": null,
   "metadata": {},
   "outputs": [],
   "source": [
    "# DataFrame index is a datetime index\n",
    "df.index = pd.to_datetime(df.index)\n",
    "\n",
    "# Calculate Average True Range (ATR) for volatility\n",
    "df['atr'] = AverageTrueRange(high=df['High'], low=df['Low'], close=df['Close'], window=14).average_true_range()\n",
    "\n",
    "# Time series plot with volatility\n",
    "plt.figure(figsize=(10, 6))\n",
    "plt.plot(df.index, df['Close'], label='EABL Stock Prices')\n",
    "plt.plot(df.index, df['atr'], label='Volatility (ATR)', color='orange') \n",
    "plt.xlabel('Date')\n",
    "plt.ylabel('Closing Price / Volatility')\n",
    "plt.title('EABL Stock Prices Over Time with Volatility')\n",
    "plt.legend()\n",
    "plt.show()"
   ]
  },
  {
   "cell_type": "code",
   "execution_count": null,
   "metadata": {},
   "outputs": [],
   "source": [
    "# Volatility clustering plot\n",
    "plt.figure(figsize=(10, 6))\n",
    "plt.plot(df.index, df['Close'], label='EABL Stock Prices')\n",
    "plt.plot(df.index, df['Close'].rolling(window=30).std(), label='Rolling Volatility (30 days)')\n",
    "plt.xlabel('Date')\n",
    "plt.ylabel('Closing Price / Volatility')\n",
    "plt.title('Volatility Clustering in EABL Stock Prices')\n",
    "plt.legend()\n",
    "plt.show()"
   ]
  },
  {
   "cell_type": "code",
   "execution_count": null,
   "metadata": {},
   "outputs": [],
   "source": []
  },
  {
   "cell_type": "markdown",
   "metadata": {},
   "source": [
    "### <b> <span style='color:#16C2D5'>|</span> Stock trends</b>"
   ]
  },
  {
   "cell_type": "code",
   "execution_count": null,
   "metadata": {},
   "outputs": [],
   "source": [
    "# Stock Price Trends\n",
    "plt.figure(figsize=(10, 6))\n",
    "plt.plot(df['Date'], df['Close'], label='Close Price')\n",
    "plt.title('Stock Price Trends Over Time')\n",
    "plt.xlabel('Date')\n",
    "plt.ylabel('Close Price')\n",
    "plt.legend()\n",
    "plt.show()"
   ]
  },
  {
   "cell_type": "code",
   "execution_count": null,
   "metadata": {},
   "outputs": [],
   "source": [
    "mpf.plot(df.set_index('Date'), type='candle', style='yahoo', title='Candlestick Chart')\n",
    "\n",
    "# c. Financial Ratios Over Time\n",
    "plt.figure(figsize=(10, 6))\n",
    "plt.plot(df['Date'], df['PE_Ratio'], label='P/E Ratio')\n",
    "plt.plot(df['Date'], df['Dividend_Yield'], label='Dividend Yield')\n",
    "plt.title('Financial Ratios Over Time')\n",
    "plt.xlabel('Date')\n",
    "plt.ylabel('Ratio')\n",
    "plt.legend()\n",
    "plt.show()"
   ]
  },
  {
   "cell_type": "markdown",
   "metadata": {},
   "source": [
    "### <b> <span style='color:#16C2D5'>|</span> Moving averages</b>\n",
    "\n",
    "Computes the 50-day and 200-day moving averages for the 'Close' prices and adds them as new columns ('50_Day_MA', '200_Day_MA')."
   ]
  },
  {
   "cell_type": "code",
   "execution_count": null,
   "metadata": {},
   "outputs": [],
   "source": [
    "# Moving Averages\n",
    "plt.figure(figsize=(10, 6))\n",
    "plt.plot(df['Date'], df['Close'], label='Close Price')\n",
    "plt.plot(df['Date'], df['50_Day_MA'], label='50-Day MA')\n",
    "plt.plot(df['Date'], df['200_Day_MA'], label='200-Day MA')\n",
    "plt.title('Moving Averages Over Time')\n",
    "plt.xlabel('Date')\n",
    "plt.ylabel('Price')\n",
    "plt.legend()\n",
    "plt.show()"
   ]
  },
  {
   "cell_type": "markdown",
   "metadata": {},
   "source": [
    "### <b> <span style='color:#16C2D5'>|</span> Financial ratios</b>\n",
    "\n",
    "Calculates the Price to Earnings ratio (P/E) and Dividend Yield, adding them as new columns ('PE_Ratio', 'Dividend_Yield')."
   ]
  },
  {
   "cell_type": "code",
   "execution_count": null,
   "metadata": {},
   "outputs": [],
   "source": [
    "#Financial Ratios Over Time\n",
    "plt.figure(figsize=(10, 6))\n",
    "plt.plot(df['Date'], df['PE_Ratio'], label='P/E Ratio')\n",
    "plt.plot(df['Date'], df['Dividend_Yield'], label='Dividend Yield')\n",
    "plt.title('Financial Ratios Over Time')\n",
    "plt.xlabel('Date')\n",
    "plt.ylabel('Ratio')\n",
    "plt.legend()\n",
    "plt.show()"
   ]
  },
  {
   "cell_type": "markdown",
   "metadata": {},
   "source": [
    "\n",
    "Calculate the Price to Earnings (P/E) ratio by dividing the 'Close' prices by the 'Earnings Per Share' and add it as a new column 'PE_Ratio'.\n",
    "Compute the Dividend Yield by dividing the 'Dividends per share' by the 'Close' prices and multiplying by 100, adding it as a new column 'Dividend_Yield'."
   ]
  },
  {
   "cell_type": "code",
   "execution_count": null,
   "metadata": {},
   "outputs": [],
   "source": [
    "# Plotting\n",
    "plt.figure(figsize=(12, 8))\n",
    "\n",
    "# P/E Ratio Plot\n",
    "plt.subplot(3, 1, 1)\n",
    "plt.plot(df['Date'], df['PE_Ratio'], label='P/E Ratio', color='blue')\n",
    "plt.title('P/E Ratio Over Time')\n",
    "plt.xlabel('Date')\n",
    "plt.ylabel('P/E Ratio')\n",
    "plt.legend()\n",
    "\n",
    "# Dividend Yield Plot\n",
    "plt.subplot(3, 1, 2)\n",
    "plt.plot(df['Date'], df['Dividend_Yield'], label='Dividend Yield', color='green')\n",
    "plt.title('Dividend Yield Over Time')\n",
    "plt.xlabel('Date')\n",
    "plt.ylabel('Dividend Yield (%)')\n",
    "plt.legend()\n",
    "\n",
    "\n",
    "plt.tight_layout()\n",
    "plt.show()"
   ]
  },
  {
   "cell_type": "markdown",
   "metadata": {},
   "source": [
    "\n",
    "### <b> <span style='color:#16C2D5'>|</span> Lag analysis</b> \n",
    "\n",
    "Close Prices:\n",
    "\n",
    "Introduced a lagged feature, Close_Lag, capturing historical trends in closing prices.\n",
    "Lagged by 1 period to observe trends over consecutive time points.\n",
    "Additional Variables:\n",
    "\n",
    "Lag features created for various financial indicators:\n",
    "Volume_Lag: Lagged trading volumes.\n",
    "Average_Lag: Lagged average values.\n",
    "Dividends_Lag: Lagged dividends per share.\n",
    "Earnings_Lag: Lagged earnings per share."
   ]
  },
  {
   "cell_type": "code",
   "execution_count": null,
   "metadata": {},
   "outputs": [],
   "source": [
    "# Generate lag features for the 'Close' prices to capture historical trends.\n",
    "lag_periods = 1  # Adjust the lag period as needed\n",
    "df['Close_Lag'] = df['Close'].shift(lag_periods)"
   ]
  },
  {
   "cell_type": "code",
   "execution_count": null,
   "metadata": {},
   "outputs": [],
   "source": [
    "lag_periods = 1  # Adjust the lag period as needed\n",
    "\n",
    "# Create lag features for additional variables\n",
    "df['Volume_Lag'] = df['Volume'].shift(lag_periods)\n",
    "df['Average_Lag'] = df['Average'].shift(lag_periods)\n",
    "df['Dividends_Lag'] = df['Dividends per share'].shift(lag_periods)\n",
    "df['Earnings_Lag'] = df['Earnings Per Share'].shift(lag_periods)"
   ]
  },
  {
   "cell_type": "code",
   "execution_count": null,
   "metadata": {},
   "outputs": [],
   "source": [
    "plt.figure(figsize=(14, 8))\n",
    "\n",
    "# Original 'Close' and lagged 'Close'\n",
    "plt.subplot(2, 3, 1)\n",
    "plt.plot(df['Date'], df['Close'], label='Original Close', color='blue')\n",
    "plt.plot(df['Date'], df['Close_Lag'], label='Close Lag (1 period)', linestyle='dashed', color='red')\n",
    "plt.title('Close Prices with Lag')\n",
    "plt.xlabel('Date')\n",
    "plt.ylabel('Close Price')\n",
    "plt.legend()\n",
    "\n",
    "# Original 'Volume' and lagged 'Volume'\n",
    "plt.subplot(2, 3, 2)\n",
    "plt.plot(df['Date'], df['Volume'], label='Original Volume', color='green')\n",
    "plt.plot(df['Date'], df['Volume_Lag'], label='Volume Lag (1 period)', linestyle='dashed', color='orange')\n",
    "plt.title('Volume with Lag')\n",
    "plt.xlabel('Date')\n",
    "plt.ylabel('Volume')\n",
    "plt.legend()\n",
    "\n",
    "# Original 'Average' and lagged 'Average'\n",
    "plt.subplot(2, 3, 3)\n",
    "plt.plot(df['Date'], df['Average'], label='Original Average', color='purple')\n",
    "plt.plot(df['Date'], df['Average_Lag'], label='Average Lag (1 period)', linestyle='dashed', color='pink')\n",
    "plt.title('Average with Lag')\n",
    "plt.xlabel('Date')\n",
    "plt.ylabel('Average')\n",
    "plt.legend()\n",
    "\n",
    "# Original 'Dividends per share' and lagged 'Dividends per share'\n",
    "plt.subplot(2, 3, 4)\n",
    "plt.plot(df['Date'], df['Dividends per share'], label='Original Dividends', color='cyan')\n",
    "plt.plot(df['Date'], df['Dividends_Lag'], label='Dividends Lag (1 period)', linestyle='dashed', color='brown')\n",
    "plt.title('Dividends with Lag')\n",
    "plt.xlabel('Date')\n",
    "plt.ylabel('Dividends per share')\n",
    "plt.legend()\n",
    "\n",
    "# Original 'Earnings Per Share' and lagged 'Earnings Per Share'\n",
    "plt.subplot(2, 3, 5)\n",
    "plt.plot(df['Date'], df['Earnings Per Share'], label='Original Earnings', color='gray')\n",
    "plt.plot(df['Date'], df['Earnings_Lag'], label='Earnings Lag (1 period)', linestyle='dashed', color='yellow')\n",
    "plt.title('Earnings with Lag')\n",
    "plt.xlabel('Date')\n",
    "plt.ylabel('Earnings Per Share')\n",
    "plt.legend()\n",
    "\n",
    "plt.tight_layout()\n",
    "plt.show()"
   ]
  },
  {
   "cell_type": "markdown",
   "metadata": {},
   "source": [
    "Interpretation:\n",
    "\n",
    "**Close Prices with Lag**: A comparison of original closing prices with lagged prices.\n",
    "Provides insights into how closing prices change over consecutive periods.\n",
    "\n",
    "**Volume with Lag**: Examines trends in trading volumes by comparing original and lagged volumes.\n",
    "Helps identify patterns and shifts in trading activi\n",
    "\n",
    "**Average with Lag**: Highlights trends in average values by comparing original and lagged averages.\n",
    "Useful for understanding changes in average metrics.\n",
    "\n",
    "\n",
    "**Dividends with Lag**: A comparison of original dividend payouts with lagged dividends.\n",
    "Enables the identification of trends in dividend distributions.\n",
    "\n",
    "\n",
    "**Earnings with Lag**: Examines trends in earnings per share by comparing original and lagged earnings.\n",
    "Provides insights into historical earnings patterns.\n",
    "\n",
    "Lag analysis allows for the observation of historical trends in various financial indicators as well as enhanced understanding of historical patterns, supporting more informed financial analysis and strategic decision-making based on trends observed in the lagged features."
   ]
  },
  {
   "cell_type": "markdown",
   "metadata": {},
   "source": [
    "\n",
    "### <b> <span style='color:#16C2D5'>|</span> Trend analysis</b> "
   ]
  },
  {
   "cell_type": "code",
   "execution_count": null,
   "metadata": {},
   "outputs": [],
   "source": [
    "# Calculate and plot the percentage changes in stock prices\n",
    "plt.figure(figsize=(12, 6))\n",
    "plt.plot(df['Date'], df['Close'].pct_change() * 100, label='Daily Percentage Change', color='purple')\n",
    "plt.title('Daily Percentage Change in Stock Prices')\n",
    "plt.xlabel('Date')\n",
    "plt.ylabel('Percentage Change')\n",
    "plt.legend()\n",
    "plt.show()"
   ]
  },
  {
   "cell_type": "code",
   "execution_count": null,
   "metadata": {},
   "outputs": [],
   "source": [
    "# df['Price_Diff'] = df['Close'].diff()  # Assuming 'Close' column is used for daily closing prices\n",
    "\n",
    "# plt.figure(figsize=(12, 6))\n",
    "# sns.lineplot(x='Date', y='Price_Diff', data=df, label='Daily Price Difference', color='green')\n",
    "# plt.axhline(0, color='black', linestyle='--', linewidth=1, label='Zero Line')\n",
    "# plt.title('EABL Stock Daily Price Differences Over Time')\n",
    "# plt.xlabel('Date')\n",
    "# plt.ylabel('Price Difference')\n",
    "# plt.legend()\n",
    "# plt.tight_layout()\n",
    "# plt.show()"
   ]
  },
  {
   "cell_type": "code",
   "execution_count": null,
   "metadata": {},
   "outputs": [],
   "source": []
  },
  {
   "cell_type": "code",
   "execution_count": null,
   "metadata": {},
   "outputs": [],
   "source": []
  },
  {
   "cell_type": "code",
   "execution_count": null,
   "metadata": {},
   "outputs": [],
   "source": []
  },
  {
   "cell_type": "code",
   "execution_count": null,
   "metadata": {},
   "outputs": [],
   "source": []
  }
 ],
 "metadata": {
  "kernelspec": {
   "display_name": "Python 3 (ipykernel)",
   "language": "python",
   "name": "python3"
  },
  "language_info": {
   "codemirror_mode": {
    "name": "ipython",
    "version": 3
   },
   "file_extension": ".py",
   "mimetype": "text/x-python",
   "name": "python",
   "nbconvert_exporter": "python",
   "pygments_lexer": "ipython3",
   "version": "3.11.2"
  }
 },
 "nbformat": 4,
 "nbformat_minor": 4
}
