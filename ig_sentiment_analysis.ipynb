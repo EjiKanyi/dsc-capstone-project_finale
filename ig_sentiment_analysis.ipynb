{
 "cells": [
  {
   "cell_type": "code",
   "execution_count": 1,
   "id": "c956153d-025a-432a-8342-2562a16b8cf0",
   "metadata": {},
   "outputs": [],
   "source": [
    "import pandas as pd\n",
    "import glob"
   ]
  },
  {
   "cell_type": "code",
   "execution_count": 2,
   "id": "6541568b-1409-45c3-ab5f-348c0fffb1a2",
   "metadata": {},
   "outputs": [],
   "source": [
    "file_paths = glob.glob('IG_Sentiments/*.csv')"
   ]
  },
  {
   "cell_type": "code",
   "execution_count": 3,
   "id": "1b90a5a8-265b-4478-9268-db523b6f4905",
   "metadata": {},
   "outputs": [
    {
     "data": {
      "text/plain": [
       "['IG_Sentiments\\\\IG_Sentiments_Guiness_1.csv',\n",
       " 'IG_Sentiments\\\\IG_Sentiments_Guiness_2.csv',\n",
       " 'IG_Sentiments\\\\IG_Sentiments_Tusker_1.csv',\n",
       " 'IG_Sentiments\\\\IG_Sentiments_Tusker_2.csv',\n",
       " 'IG_Sentiments\\\\IG_Sentiments_Tusker_3.csv',\n",
       " 'IG_Sentiments\\\\IG_Sentiments_Tusker_4.csv',\n",
       " 'IG_Sentiments\\\\IG_Sentiments_Tusker_5.csv',\n",
       " 'IG_Sentiments\\\\IG_Sentiments_Tusker_6.csv',\n",
       " 'IG_Sentiments\\\\IG_Sentiments_Tusker_OktobaFest.csv',\n",
       " 'IG_Sentiments\\\\IG_Sentiments_White_Cap_1.csv',\n",
       " 'IG_Sentiments\\\\IG_Sentiments_White_Cap_2.csv']"
      ]
     },
     "execution_count": 3,
     "metadata": {},
     "output_type": "execute_result"
    }
   ],
   "source": [
    "dfs = []  # List to store DataFrames\n",
    "for file_path in file_paths:\n",
    "    df = pd.read_csv(file_path)\n",
    "    dfs.append(df)"
   ]
  }
 ],
 "metadata": {
  "kernelspec": {
   "display_name": "Python 3 (ipykernel)",
   "language": "python",
   "name": "python3"
  },
  "language_info": {
   "codemirror_mode": {
    "name": "ipython",
    "version": 3
   },
   "file_extension": ".py",
   "mimetype": "text/x-python",
   "name": "python",
   "nbconvert_exporter": "python",
   "pygments_lexer": "ipython3",
   "version": "3.11.2"
  }
 },
 "nbformat": 4,
 "nbformat_minor": 5
}
